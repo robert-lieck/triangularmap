{
  "cells": [
    {
      "cell_type": "markdown",
      "metadata": {},
      "source": [
        "\n# Usage Examples\n\nThis shows some common use cases of the :class:`~triangularmap.tmap.TMap` class.\n"
      ]
    },
    {
      "cell_type": "markdown",
      "metadata": {},
      "source": [
        "## Typical Use Cases\nWe use a Numpy array as underlying storage because it allows for slicing and advanced indexing, which is used to\nprovide some of the functionality.\n\n"
      ]
    },
    {
      "cell_type": "code",
      "execution_count": null,
      "metadata": {
        "collapsed": false
      },
      "outputs": [],
      "source": [
        "import numpy as np\nfrom triangularmap import TMap\n\nn = 4\narr = np.array([\" \"] * TMap.size_from_n(n))\ntmap = TMap(arr)"
      ]
    },
    {
      "cell_type": "markdown",
      "metadata": {},
      "source": [
        "Of course, we can set single elements:\n\n"
      ]
    },
    {
      "cell_type": "code",
      "execution_count": null,
      "metadata": {
        "collapsed": false
      },
      "outputs": [],
      "source": [
        "tmap[1, 4] = 'o'\nprint(tmap.pretty(haxis=True))"
      ]
    },
    {
      "cell_type": "markdown",
      "metadata": {},
      "source": [
        "## Slicing\nHorizontal Slices\n.................\nWe can also set entire rows, specified by depth\n\n"
      ]
    },
    {
      "cell_type": "code",
      "execution_count": null,
      "metadata": {
        "collapsed": false
      },
      "outputs": [],
      "source": [
        "tmap.dslice[2] = 'o'\nprint(tmap.pretty(daxis=True))"
      ]
    },
    {
      "cell_type": "markdown",
      "metadata": {},
      "source": [
        "or level\n\n"
      ]
    },
    {
      "cell_type": "code",
      "execution_count": null,
      "metadata": {
        "collapsed": false
      },
      "outputs": [],
      "source": [
        "tmap.lslice[3] = 'x'\nprint(tmap.pretty(laxis=True))"
      ]
    },
    {
      "cell_type": "markdown",
      "metadata": {},
      "source": [
        "This syntax is required because the :meth:`~triangularmap.tmap.TMap.dslice` and\n:meth:`~triangularmap.tmap.TMap.lslice` methods return a (sliced) `view` of the underlying numpy array, which allows\nfor directly assigning values. We can also slice the returned array again\n\n"
      ]
    },
    {
      "cell_type": "code",
      "execution_count": null,
      "metadata": {
        "collapsed": false
      },
      "outputs": [],
      "source": [
        "tmap.lslice[1][1:3] = 'x'\nprint(tmap.pretty(laxis=True))"
      ]
    },
    {
      "cell_type": "markdown",
      "metadata": {},
      "source": [
        "Let's reset the underlying array\n\n"
      ]
    },
    {
      "cell_type": "code",
      "execution_count": null,
      "metadata": {
        "collapsed": false
      },
      "outputs": [],
      "source": [
        "tmap.arr[:] = \" \"\nprint(tmap.pretty())"
      ]
    },
    {
      "cell_type": "markdown",
      "metadata": {},
      "source": [
        "### Vertical Slices\nWe can also use vertical slices defined by a start index\n\n"
      ]
    },
    {
      "cell_type": "code",
      "execution_count": null,
      "metadata": {
        "collapsed": false
      },
      "outputs": [],
      "source": [
        "tmap.sslice[1] = 'o'\nprint(tmap.pretty(haxis=True))"
      ]
    },
    {
      "cell_type": "markdown",
      "metadata": {},
      "source": [
        "or an end index\n\n"
      ]
    },
    {
      "cell_type": "code",
      "execution_count": null,
      "metadata": {
        "collapsed": false
      },
      "outputs": [],
      "source": [
        "tmap.eslice[3] = 'x'\nprint(tmap.pretty(haxis=True))"
      ]
    },
    {
      "cell_type": "markdown",
      "metadata": {},
      "source": [
        "In contrast to the :meth:`~triangularmap.tmap.TMap.dslice` and :meth:`~triangularmap.tmap.TMap.lslice` method, we\ncannot directly slice the underlying array, because it is not aligned with slicing direction. Instead, behind the\nscenes, advanced indexing is used to get and set the elements. For simple getting or setting, this does not make\na big difference. But it can lead to subtle bugs when first getting a slice and then trying to set elements, because\nthe :attr:`~triangularmap.tmap.TMap.sslice` and :attr:`~triangularmap.tmap.TMap.eslice` attributes effectively\ncorrespond to `copies` not `views` of the underlying array. To demonstrate this, let's first fill the map with numbers\n\n"
      ]
    },
    {
      "cell_type": "code",
      "execution_count": null,
      "metadata": {
        "collapsed": false
      },
      "outputs": [],
      "source": [
        "tmap.arr[:] = list(range(len(tmap.arr)))  # implicitly converted to strings by Numpy\nprint(tmap.pretty(haxis=True, laxis=True))"
      ]
    },
    {
      "cell_type": "markdown",
      "metadata": {},
      "source": [
        "When we now do the following\n\n"
      ]
    },
    {
      "cell_type": "code",
      "execution_count": null,
      "metadata": {
        "collapsed": false
      },
      "outputs": [],
      "source": [
        "lslice = tmap.lslice[2]\nsslice = tmap.sslice[1]\nprint(lslice)\nprint(sslice)"
      ]
    },
    {
      "cell_type": "markdown",
      "metadata": {},
      "source": [
        "we get the corresponding slices, as expected. However, when we try to set elements via these objects\n\n"
      ]
    },
    {
      "cell_type": "code",
      "execution_count": null,
      "metadata": {
        "collapsed": false
      },
      "outputs": [],
      "source": [
        "lslice[:] = \"X\"\nsslice[:] = \"O\"\nprint(lslice)\nprint(sslice)\nprint(tmap.pretty(haxis=True, laxis=True))"
      ]
    },
    {
      "cell_type": "markdown",
      "metadata": {},
      "source": [
        "we see that the original map is only affected for the `lslice` object, because it is a view, while the `sslice` object\nis a copy of the underlying storage (likewise for `dslice` and `eslice`).\n"
      ]
    }
  ],
  "metadata": {
    "kernelspec": {
      "display_name": "Python 3",
      "language": "python",
      "name": "python3"
    },
    "language_info": {
      "codemirror_mode": {
        "name": "ipython",
        "version": 3
      },
      "file_extension": ".py",
      "mimetype": "text/x-python",
      "name": "python",
      "nbconvert_exporter": "python",
      "pygments_lexer": "ipython3",
      "version": "3.12.3"
    }
  },
  "nbformat": 4,
  "nbformat_minor": 0
}