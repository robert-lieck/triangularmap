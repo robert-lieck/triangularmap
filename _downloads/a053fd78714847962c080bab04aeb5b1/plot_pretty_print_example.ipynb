{
  "cells": [
    {
      "cell_type": "markdown",
      "metadata": {},
      "source": [
        "\n# Pretty Print Example\n\nThis example shows typical usages of the :func:`~tmap.TMap.pretty` function.\n"
      ]
    },
    {
      "cell_type": "markdown",
      "metadata": {},
      "source": [
        "## Typical Use Cases\nWe create a TMap of width 6\n\n"
      ]
    },
    {
      "cell_type": "code",
      "execution_count": null,
      "metadata": {
        "collapsed": false
      },
      "outputs": [],
      "source": [
        "from triangularmap import TMap\n\nn = 6\narr = list(range(TMap.size_from_n(n)))\ntmap = TMap(arr)"
      ]
    },
    {
      "cell_type": "markdown",
      "metadata": {},
      "source": [
        "and print it:\n\n"
      ]
    },
    {
      "cell_type": "code",
      "execution_count": null,
      "metadata": {
        "collapsed": false
      },
      "outputs": [],
      "source": [
        "print(tmap.pretty())"
      ]
    },
    {
      "cell_type": "markdown",
      "metadata": {},
      "source": [
        "We can add a horizontal axis and a depth axis with labels:\n\n"
      ]
    },
    {
      "cell_type": "code",
      "execution_count": null,
      "metadata": {
        "collapsed": false
      },
      "outputs": [],
      "source": [
        "print(tmap.pretty(haxis=True, daxis=True))"
      ]
    },
    {
      "cell_type": "markdown",
      "metadata": {},
      "source": [
        "or a level axis instead of the depth axis:\n\n"
      ]
    },
    {
      "cell_type": "code",
      "execution_count": null,
      "metadata": {
        "collapsed": false
      },
      "outputs": [],
      "source": [
        "print(tmap.pretty(haxis=True, laxis=True))"
      ]
    },
    {
      "cell_type": "markdown",
      "metadata": {},
      "source": [
        "We can cut of the top and specify custom characters for filling the whitespace:\n\n"
      ]
    },
    {
      "cell_type": "code",
      "execution_count": null,
      "metadata": {
        "collapsed": false
      },
      "outputs": [],
      "source": [
        "print(tmap.pretty(crosses=True, cut=4, fill_char=\"-\", top_char='^', bottom_char='v', pad_char='0'))"
      ]
    },
    {
      "cell_type": "markdown",
      "metadata": {},
      "source": [
        "## Two Different Styles\nThe default style uses '\u2571' and '\u2572' characters to draw the map. We can also use a style that additionally uses '\u2573':\n\n"
      ]
    },
    {
      "cell_type": "code",
      "execution_count": null,
      "metadata": {
        "collapsed": false
      },
      "outputs": [],
      "source": [
        "print(tmap.pretty(crosses=True, haxis=True, daxis=True))"
      ]
    },
    {
      "cell_type": "markdown",
      "metadata": {},
      "source": [
        "The 'crosses' style tends to be more compact as only one '\u2573' is used at the crossings (instead of '\u2572\u2571' or '\u2571\u2572' as in\nthe default style). Moreover, content is padded to fill an uneven number of characters (while in the default style it\nis padded to an even number). The crosses style is therefore particularly compact if the content itself is\nof uneven width (e.g. just a single character wide):\n\n"
      ]
    },
    {
      "cell_type": "code",
      "execution_count": null,
      "metadata": {
        "collapsed": false
      },
      "outputs": [],
      "source": [
        "print(TMap('abcdefghij').pretty(crosses=True))"
      ]
    },
    {
      "cell_type": "markdown",
      "metadata": {},
      "source": [
        "versus the default style:\n\n"
      ]
    },
    {
      "cell_type": "code",
      "execution_count": null,
      "metadata": {
        "collapsed": false
      },
      "outputs": [],
      "source": [
        "print(TMap('abcdefghij').pretty())"
      ]
    },
    {
      "cell_type": "markdown",
      "metadata": {},
      "source": [
        "On the down-side it has a slightly more \"messy\" appearance (and therefore is not the default style), because there are\nno unicode character for the boundary, i.e., a '\u2573' with one of the upper arms missing.\n\n"
      ]
    },
    {
      "cell_type": "markdown",
      "metadata": {},
      "source": [
        "## Known Issues\nPlotting of the triangular map itself is not adapted to accommodate the axes, which may result in ill-formatted axes\nfor some edge cases. Below, there are no spaces between two-digit tick labels on the horizontal axis, because the\ncontent is only one character wide (in more extreme cases, they may even become misaligned if there is not enough\nspace):\n\n"
      ]
    },
    {
      "cell_type": "code",
      "execution_count": null,
      "metadata": {
        "collapsed": false
      },
      "outputs": [],
      "source": [
        "print(TMap('.' * TMap.size_from_n(15)).pretty(crosses=True, daxis=True, haxis=True))"
      ]
    }
  ],
  "metadata": {
    "kernelspec": {
      "display_name": "Python 3",
      "language": "python",
      "name": "python3"
    },
    "language_info": {
      "codemirror_mode": {
        "name": "ipython",
        "version": 3
      },
      "file_extension": ".py",
      "mimetype": "text/x-python",
      "name": "python",
      "nbconvert_exporter": "python",
      "pygments_lexer": "ipython3",
      "version": "3.12.3"
    }
  },
  "nbformat": 4,
  "nbformat_minor": 0
}